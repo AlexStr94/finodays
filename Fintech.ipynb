  {
   "cell_type": "markdown",
   "id": "ab421129",
   "metadata": {},
   "source": [
    "# Импорты библиотек"
   ]
  },
  {
   "cell_type": "code",
   "execution_count": 288,
   "id": "28ebc318",
   "metadata": {},
   "outputs": [],
   "source": [
    "import os\n",
    "\n",
    "import pandas as pd\n",
    "import numpy as np\n",
    "\n",
    "import nltk\n",
    "from nltk.tokenize import word_tokenize\n",
    "from nltk.stem.snowball import SnowballStemmer\n",
    "from nltk.corpus import stopwords\n",
    "from collections import Counter\n",
    "from sklearn.decomposition import LatentDirichletAllocation\n",
    "from sklearn.feature_extraction.text import TfidfVectorizer, CountVectorizer\n",
    "from string import punctuation\n",
    "import spacy\n",
    "from langdetect import detect\n",
    "\n",
    "import openai"
   ]
  },
  {
   "cell_type": "code",
   "execution_count": 289,
   "id": "6acef17c",
   "metadata": {},
   "outputs": [
    {
     "name": "stderr",
     "output_type": "stream",
     "text": [
      "[nltk_data] Downloading package stopwords to\n",
      "[nltk_data]     C:\\Users\\Acer\\AppData\\Roaming\\nltk_data...\n",
      "[nltk_data]   Package stopwords is already up-to-date!\n"
     ]
    },
    {
     "data": {
      "text/plain": [
       "True"
      ]
     },
     "execution_count": 289,
     "metadata": {},
     "output_type": "execute_result"
    }
   ],
   "source": [
    "nltk.download('stopwords')"
   ]
  },
  {
   "cell_type": "code",
   "execution_count": 290,
   "id": "8c5150ba",
   "metadata": {},
   "outputs": [],
   "source": [
    "openai.api_key = 'API-KEY here'"
   ]
  },
  {
   "cell_type": "markdown",
   "id": "ccd041c0",
   "metadata": {},
   "source": [
    "# Подготовка к работе"
   ]
  },
  {
   "cell_type": "markdown",
   "id": "589a180b",
   "metadata": {},
   "source": [
    "Загружаем модели и создаём нужные списки"
   ]
  },
  {
   "cell_type": "code",
   "execution_count": null,
   "id": "261be790",
   "metadata": {},
   "outputs": [],
   "source": [
    "nlp_eng = spacy.load('en_core_web_sm', disable=['ner', 'parser'])\n",
    "nlp_rus = spacy.load('ru_core_news_sm', disable=['ner', 'parser'])\n",
    "\n",
    "stop_words_rus = stopwords.words('russian')\n",
    "stop_words_eng = stopwords.words('english')\n",
    "stop_words = stop_words_rus+stop_words_eng+['каждый день', 'каждый', 'день', 'красная цена', 'красная', 'цена', 'верный', 'дикси', 'моя', 'моя цена', 'окей','то, что надо!', 'smart','spar', 'ашан']"
   ]
  },
  {
   "cell_type": "markdown",
   "id": "d91f10e2",
   "metadata": {},
   "source": [
    "Создаём категории товаров"
   ]
  },
  {
   "cell_type": "code",
   "execution_count": 291,
   "id": "9f674ca5",
   "metadata": {},
   "outputs": [],
   "source": [
    "items = ['автозапчасти', 'видеоигры', 'напитки', 'продукты питания', 'закуски и приправы', 'аквариум', 'одежда', 'уборка', 'образование', 'электроника']"
   ]
  },
  {
   "cell_type": "markdown",
   "id": "45b1f17d",
   "metadata": {},
   "source": [
    "Функция для создания очищенных предложений и колонки с ними"
   ]
  },
  {
   "cell_type": "code",
   "execution_count": 292,
   "id": "4e549560",
   "metadata": {},
   "outputs": [],
   "source": [
    "def filter_text(data):\n",
    "\n",
    "    filtered_data = data.copy()\n",
    "\n",
    "    selected_posts = []\n",
    "    all_sentences = []\n",
    "\n",
    "    for index in range(len(filtered_data[\"sale\"])):\n",
    "        value = filtered_data.loc[index, \"sale\"]\n",
    "        try:\n",
    "            lang = detect(value)\n",
    "\n",
    "            if lang == 'en':\n",
    "                doc = nlp_eng(value)\n",
    "                lemmas = [token.lemma_ for token in doc if token.is_alpha and token.text not in punctuation]\n",
    "                cleaned_sentence = ' '.join(lemmas)\n",
    "                filtered_data.loc[index, 'cleaned_sale'] = cleaned_sentence\n",
    "            else:\n",
    "                doc = nlp_rus(value)\n",
    "                lemmas = [token.lemma_ for token in doc if token.is_alpha and token.text not in punctuation]\n",
    "                cleaned_sentence = ' '.join(lemmas)\n",
    "                filtered_data.loc[index, 'cleaned_sale'] = cleaned_sentence\n",
    "        except Exception as e:\n",
    "            print(f\"Error processing value: {value}\")\n",
    "            print(f\"Error message: {str(e)}\")\n",
    "\n",
    "    filtered_data = filtered_data.dropna(subset=['cleaned_sale'])\n",
    "\n",
    "    return filtered_data"
   ]
  },
  {
   "cell_type": "code",
   "execution_count": null,
   "id": "5eab96f4",
   "metadata": {},
   "outputs": [],
   "source": [
    "Функция для создания топиков"
   ]
  },
  {
   "cell_type": "code",
   "execution_count": 313,
   "id": "d6d15f6f",
   "metadata": {},
   "outputs": [],
   "source": [
    "def topics(data):\n",
    "    sentences = data['cleaned_sale']\n",
    "    system = f'{items} из перечисленных категорий, ТОЧНО выбери одну и укажи ТОЛЬКО её (без знаков препинания и дополнительных слов). Новых предлагать нельзя Регистр должен быть тем же. Только из списка'\n",
    "\n",
    "    if len(sentences) > 50000:\n",
    "        n_topics = 3\n",
    "    elif len(sentences) > 25000 and len(sentences) <= 50000:\n",
    "        n_topics = 2\n",
    "    elif len(sentences) > 300 and len(sentences) <= 25000:  \n",
    "        vectorizer = CountVectorizer(stop_words=stop_words, max_features=15, ngram_range=(5,5))\n",
    "        x = vectorizer.fit_transform(sentences)\n",
    "        tokens = vectorizer.get_feature_names_out()\n",
    "        print(\"Топ популярных токенов:\")\n",
    "        print(\", \".join(tokens))\n",
    "        content = f'{items} выбери категорию на основе списка слов ниже: {\", \".join(tokens)}'\n",
    "        completion = openai.ChatCompletion.create(\n",
    "          model=\"gpt-3.5-turbo\",\n",
    "          messages=[{\"role\": \"system\", \"content\": system},\n",
    "            {\"role\": \"user\", \"content\": content}], max_tokens= 20, temperature=0.05)\n",
    "        response_content = completion[\"choices\"][0][\"message\"][\"content\"]\n",
    "        data['topic'] = response_content\n",
    "        return data\n",
    "    else:\n",
    "        data['topic'] = 'нет категории'\n",
    "        return data\n",
    "\n",
    "    tfidf = TfidfVectorizer(stop_words=stop_words, min_df=20, max_df=0.95, ngram_range=(3,3))\n",
    "    x = tfidf.fit_transform(sentences)\n",
    "    id2word = {i: token for i, token in enumerate(tfidf.get_feature_names_out())}\n",
    "    lda = LatentDirichletAllocation(n_components=n_topics, random_state=12345)\n",
    "    topics = lda.fit_transform(x)\n",
    "    \n",
    "    topic_names=[]\n",
    "    for i in range(n_topics):\n",
    "        main_topics = pd.DataFrame()\n",
    "        c = lda.components_[i, :]\n",
    "        topic_tokens = [id2word.get(token_id) for token_id in np.argsort(c)[-10:]]\n",
    "        print(\"Тема\", i+1, \":\")\n",
    "        main_topics.loc[i, 'Тема'] = i+1\n",
    "        print(\", \".join(topic_tokens))\n",
    "        main_topics.loc[i, 'Ключевые слова'] = \", \".join(topic_tokens)\n",
    "        content = f'{items} выбери категорию на основе списка слов ниже: {\", \".join(topic_tokens)}'\n",
    "        completion = openai.ChatCompletion.create(\n",
    "          model=\"gpt-3.5-turbo\",\n",
    "          messages=[{\"role\": \"system\", \"content\": system},\n",
    "            {\"role\": \"user\", \"content\": content}], max_tokens= 20, temperature=0.05)\n",
    "        response_content = completion[\"choices\"][0][\"message\"][\"content\"]\n",
    "        topic_names.append(response_content)\n",
    "        print(\"\\n\")\n",
    "\n",
    "    topic_assignments = lda.transform(x)\n",
    "    data['topic'] = [topic_names[i] for i in np.argmax(topic_assignments[:len(data)], axis=1) % n_topics]\n",
    "        \n",
    "    return data"
   ]
  },
  {
   "cell_type": "markdown",
   "id": "d10d4ea9",
   "metadata": {},
   "source": [
    "# Предобработка данных"
   ]
  },
  {
   "cell_type": "code",
   "execution_count": 294,
   "id": "6e5a5442",
   "metadata": {},
   "outputs": [],
   "source": [
    "pth1 = 'final_ds_finnopolis.csv'\n",
    "pth2 = '/datasets/final_ds_finnopolis.csv'\n",
    "\n",
    "if os.path.exists(pth1):\n",
    "    data = pd.read_csv(pth1)\n",
    "elif os.path.exists(pth2):\n",
    "    data = pd.read_csv(pth2)\n",
    "else:\n",
    "    print('Something is wrong')"
   ]
  },
  {
   "cell_type": "code",
   "execution_count": 295,
   "id": "8a25b89c",
   "metadata": {},
   "outputs": [
    {
     "data": {
      "text/html": [
       "<div>\n",
       "<style scoped>\n",
       "    .dataframe tbody tr th:only-of-type {\n",
       "        vertical-align: middle;\n",
       "    }\n",
       "\n",
       "    .dataframe tbody tr th {\n",
       "        vertical-align: top;\n",
       "    }\n",
       "\n",
       "    .dataframe thead th {\n",
       "        text-align: right;\n",
       "    }\n",
       "</style>\n",
       "<table border=\"1\" class=\"dataframe\">\n",
       "  <thead>\n",
       "    <tr style=\"text-align: right;\">\n",
       "      <th></th>\n",
       "      <th>Оперативная память apacer nox [ah4u16g32c28ymbaa-1] 16 гб [ddr4, 16 гбx1 шт, 3200 мгц, 16-20-20-38]</th>\n",
       "      <th>1838685550</th>\n",
       "      <th>4399</th>\n",
       "      <th>Блахов Василий Александрович</th>\n",
       "    </tr>\n",
       "  </thead>\n",
       "  <tbody>\n",
       "    <tr>\n",
       "      <th>0</th>\n",
       "      <td>Видеокарта kfa2 geforce rtx 3050 x black [35ns...</td>\n",
       "      <td>1227447308</td>\n",
       "      <td>29199</td>\n",
       "      <td>Блахов Василий Александрович</td>\n",
       "    </tr>\n",
       "    <tr>\n",
       "      <th>1</th>\n",
       "      <td>Оперативная память kingston fury beast black r...</td>\n",
       "      <td>1838685550</td>\n",
       "      <td>3599</td>\n",
       "      <td>Блахов Василий Александрович</td>\n",
       "    </tr>\n",
       "    <tr>\n",
       "      <th>2</th>\n",
       "      <td>Свеча зажигания ngk 4549 cr7hsa 1 шт.</td>\n",
       "      <td>1085769503</td>\n",
       "      <td>1092</td>\n",
       "      <td>Блахов Василий Александрович</td>\n",
       "    </tr>\n",
       "    <tr>\n",
       "      <th>3</th>\n",
       "      <td>Газовые упоры капота geely coolray / джили кул...</td>\n",
       "      <td>1197983357</td>\n",
       "      <td>678</td>\n",
       "      <td>Блахов Василий Александрович</td>\n",
       "    </tr>\n",
       "    <tr>\n",
       "      <th>4</th>\n",
       "      <td>Фильтр салонный marshall mc4410 для chevrolet ...</td>\n",
       "      <td>1197983357</td>\n",
       "      <td>453</td>\n",
       "      <td>Блахов Василий Александрович</td>\n",
       "    </tr>\n",
       "    <tr>\n",
       "      <th>5</th>\n",
       "      <td>Бачок general motors 13118164 черный 1 шт.</td>\n",
       "      <td>1197983357</td>\n",
       "      <td>3702</td>\n",
       "      <td>Блахов Василий Александрович</td>\n",
       "    </tr>\n",
       "    <tr>\n",
       "      <th>6</th>\n",
       "      <td>Тормозной диск передний marshall m2000405 для ...</td>\n",
       "      <td>1197983357</td>\n",
       "      <td>568</td>\n",
       "      <td>Блахов Василий Александрович</td>\n",
       "    </tr>\n",
       "    <tr>\n",
       "      <th>7</th>\n",
       "      <td>Натяжитель цепи газ (дв. змз. 406) гидравличес...</td>\n",
       "      <td>1197983357</td>\n",
       "      <td>912</td>\n",
       "      <td>Блахов Василий Александрович</td>\n",
       "    </tr>\n",
       "    <tr>\n",
       "      <th>8</th>\n",
       "      <td>Таз овальный hausmann funny smile 12 л в ассор...</td>\n",
       "      <td>1505938033</td>\n",
       "      <td>179</td>\n",
       "      <td>Блахов Василий Александрович</td>\n",
       "    </tr>\n",
       "    <tr>\n",
       "      <th>9</th>\n",
       "      <td>Средство чистящее cillit bang антипятна и гиги...</td>\n",
       "      <td>1505938033</td>\n",
       "      <td>289</td>\n",
       "      <td>Блахов Василий Александрович</td>\n",
       "    </tr>\n",
       "    <tr>\n",
       "      <th>10</th>\n",
       "      <td>Салфетки ашан красная птица универсальные в ру...</td>\n",
       "      <td>1762064182</td>\n",
       "      <td>324</td>\n",
       "      <td>Блахов Василий Александрович</td>\n",
       "    </tr>\n",
       "    <tr>\n",
       "      <th>11</th>\n",
       "      <td>Жидкость чистин санитарный 750 мл</td>\n",
       "      <td>1466964349</td>\n",
       "      <td>342</td>\n",
       "      <td>Блахов Василий Александрович</td>\n",
       "    </tr>\n",
       "    <tr>\n",
       "      <th>12</th>\n",
       "      <td>Пятновыводитель chirton oxygen colour+white ки...</td>\n",
       "      <td>1466964349</td>\n",
       "      <td>209</td>\n",
       "      <td>Блахов Василий Александрович</td>\n",
       "    </tr>\n",
       "    <tr>\n",
       "      <th>13</th>\n",
       "      <td>Кондиционер для всех видов тканей vernel летне...</td>\n",
       "      <td>1466964349</td>\n",
       "      <td>399</td>\n",
       "      <td>Блахов Василий Александрович</td>\n",
       "    </tr>\n",
       "    <tr>\n",
       "      <th>14</th>\n",
       "      <td>Колбаса сырокопченая малаховский мясокомбинат...</td>\n",
       "      <td>1363498391</td>\n",
       "      <td>1</td>\n",
       "      <td>Блахов Василий Александрович</td>\n",
       "    </tr>\n",
       "    <tr>\n",
       "      <th>15</th>\n",
       "      <td>Сгущенное молоко алексеевское с сахаром и кака...</td>\n",
       "      <td>1363498391</td>\n",
       "      <td>72</td>\n",
       "      <td>Блахов Василий Александрович</td>\n",
       "    </tr>\n",
       "    <tr>\n",
       "      <th>16</th>\n",
       "      <td>Газированный напиток добрый манго-маракуйя 1 л</td>\n",
       "      <td>1976872004</td>\n",
       "      <td>94</td>\n",
       "      <td>Блахов Василий Александрович</td>\n",
       "    </tr>\n",
       "    <tr>\n",
       "      <th>17</th>\n",
       "      <td>Сладкий подарочный набор sorbon мини-рожки асс...</td>\n",
       "      <td>1363498391</td>\n",
       "      <td>79</td>\n",
       "      <td>Блахов Василий Александрович</td>\n",
       "    </tr>\n",
       "    <tr>\n",
       "      <th>18</th>\n",
       "      <td>Конфеты помадные комильфо фисташка 116 г</td>\n",
       "      <td>1363498391</td>\n",
       "      <td>169</td>\n",
       "      <td>Блахов Василий Александрович</td>\n",
       "    </tr>\n",
       "    <tr>\n",
       "      <th>19</th>\n",
       "      <td>Каша ясно солнышко овсяная с черникой и молоко...</td>\n",
       "      <td>1976872004</td>\n",
       "      <td>29</td>\n",
       "      <td>Блахов Василий Александрович</td>\n",
       "    </tr>\n",
       "  </tbody>\n",
       "</table>\n",
       "</div>"
      ],
      "text/plain": [
       "   Оперативная память apacer nox [ah4u16g32c28ymbaa-1] 16 гб [ddr4, 16 гбx1 шт, 3200 мгц, 16-20-20-38]  \\\n",
       "0   Видеокарта kfa2 geforce rtx 3050 x black [35ns...                                                    \n",
       "1   Оперативная память kingston fury beast black r...                                                    \n",
       "2               Свеча зажигания ngk 4549 cr7hsa 1 шт.                                                    \n",
       "3   Газовые упоры капота geely coolray / джили кул...                                                    \n",
       "4   Фильтр салонный marshall mc4410 для chevrolet ...                                                    \n",
       "5          Бачок general motors 13118164 черный 1 шт.                                                    \n",
       "6   Тормозной диск передний marshall m2000405 для ...                                                    \n",
       "7   Натяжитель цепи газ (дв. змз. 406) гидравличес...                                                    \n",
       "8   Таз овальный hausmann funny smile 12 л в ассор...                                                    \n",
       "9   Средство чистящее cillit bang антипятна и гиги...                                                    \n",
       "10  Салфетки ашан красная птица универсальные в ру...                                                    \n",
       "11                  Жидкость чистин санитарный 750 мл                                                    \n",
       "12  Пятновыводитель chirton oxygen colour+white ки...                                                    \n",
       "13  Кондиционер для всех видов тканей vernel летне...                                                    \n",
       "14   Колбаса сырокопченая малаховский мясокомбинат...                                                    \n",
       "15  Сгущенное молоко алексеевское с сахаром и кака...                                                    \n",
       "16     Газированный напиток добрый манго-маракуйя 1 л                                                    \n",
       "17  Сладкий подарочный набор sorbon мини-рожки асс...                                                    \n",
       "18           Конфеты помадные комильфо фисташка 116 г                                                    \n",
       "19  Каша ясно солнышко овсяная с черникой и молоко...                                                    \n",
       "\n",
       "    1838685550   4399  Блахов Василий Александрович  \n",
       "0   1227447308  29199  Блахов Василий Александрович  \n",
       "1   1838685550   3599  Блахов Василий Александрович  \n",
       "2   1085769503   1092  Блахов Василий Александрович  \n",
       "3   1197983357    678  Блахов Василий Александрович  \n",
       "4   1197983357    453  Блахов Василий Александрович  \n",
       "5   1197983357   3702  Блахов Василий Александрович  \n",
       "6   1197983357    568  Блахов Василий Александрович  \n",
       "7   1197983357    912  Блахов Василий Александрович  \n",
       "8   1505938033    179  Блахов Василий Александрович  \n",
       "9   1505938033    289  Блахов Василий Александрович  \n",
       "10  1762064182    324  Блахов Василий Александрович  \n",
       "11  1466964349    342  Блахов Василий Александрович  \n",
       "12  1466964349    209  Блахов Василий Александрович  \n",
       "13  1466964349    399  Блахов Василий Александрович  \n",
       "14  1363498391      1  Блахов Василий Александрович  \n",
       "15  1363498391     72  Блахов Василий Александрович  \n",
       "16  1976872004     94  Блахов Василий Александрович  \n",
       "17  1363498391     79  Блахов Василий Александрович  \n",
       "18  1363498391    169  Блахов Василий Александрович  \n",
       "19  1976872004     29  Блахов Василий Александрович  "
      ]
     },
     "metadata": {},
     "output_type": "display_data"
    }
   ],
   "source": [
    "display(data.head(20))"
   ]
  },
  {
   "cell_type": "code",
   "execution_count": 296,
   "id": "ce0157db",
   "metadata": {},
   "outputs": [
    {
     "name": "stdout",
     "output_type": "stream",
     "text": [
      "<class 'pandas.core.frame.DataFrame'>\n",
      "RangeIndex: 299999 entries, 0 to 299998\n",
      "Data columns (total 4 columns):\n",
      " #   Column                                                                                               Non-Null Count   Dtype \n",
      "---  ------                                                                                               --------------   ----- \n",
      " 0   Оперативная память apacer nox [ah4u16g32c28ymbaa-1] 16 гб [ddr4, 16 гбx1 шт, 3200 мгц, 16-20-20-38]  299999 non-null  object\n",
      " 1   1838685550                                                                                           299999 non-null  int64 \n",
      " 2   4399                                                                                                 299999 non-null  int64 \n",
      " 3   Блахов Василий Александрович                                                                         299999 non-null  object\n",
      "dtypes: int64(2), object(2)\n",
      "memory usage: 9.2+ MB\n"
     ]
    }
   ],
   "source": [
    "data.info()"
   ]
  },
  {
   "cell_type": "code",
   "execution_count": 297,
   "id": "be5662c8",
   "metadata": {},
   "outputs": [
    {
     "data": {
      "text/html": [
       "<div>\n",
       "<style scoped>\n",
       "    .dataframe tbody tr th:only-of-type {\n",
       "        vertical-align: middle;\n",
       "    }\n",
       "\n",
       "    .dataframe tbody tr th {\n",
       "        vertical-align: top;\n",
       "    }\n",
       "\n",
       "    .dataframe thead th {\n",
       "        text-align: right;\n",
       "    }\n",
       "</style>\n",
       "<table border=\"1\" class=\"dataframe\">\n",
       "  <thead>\n",
       "    <tr style=\"text-align: right;\">\n",
       "      <th></th>\n",
       "      <th>1838685550</th>\n",
       "      <th>4399</th>\n",
       "    </tr>\n",
       "  </thead>\n",
       "  <tbody>\n",
       "    <tr>\n",
       "      <th>count</th>\n",
       "      <td>2.999990e+05</td>\n",
       "      <td>299999.000000</td>\n",
       "    </tr>\n",
       "    <tr>\n",
       "      <th>mean</th>\n",
       "      <td>1.593975e+09</td>\n",
       "      <td>2439.293104</td>\n",
       "    </tr>\n",
       "    <tr>\n",
       "      <th>std</th>\n",
       "      <td>2.934788e+08</td>\n",
       "      <td>12441.891755</td>\n",
       "    </tr>\n",
       "    <tr>\n",
       "      <th>min</th>\n",
       "      <td>1.085770e+09</td>\n",
       "      <td>0.000000</td>\n",
       "    </tr>\n",
       "    <tr>\n",
       "      <th>25%</th>\n",
       "      <td>1.363498e+09</td>\n",
       "      <td>102.000000</td>\n",
       "    </tr>\n",
       "    <tr>\n",
       "      <th>50%</th>\n",
       "      <td>1.505938e+09</td>\n",
       "      <td>231.000000</td>\n",
       "    </tr>\n",
       "    <tr>\n",
       "      <th>75%</th>\n",
       "      <td>1.964649e+09</td>\n",
       "      <td>640.000000</td>\n",
       "    </tr>\n",
       "    <tr>\n",
       "      <th>max</th>\n",
       "      <td>1.983695e+09</td>\n",
       "      <td>258999.000000</td>\n",
       "    </tr>\n",
       "  </tbody>\n",
       "</table>\n",
       "</div>"
      ],
      "text/plain": [
       "         1838685550           4399\n",
       "count  2.999990e+05  299999.000000\n",
       "mean   1.593975e+09    2439.293104\n",
       "std    2.934788e+08   12441.891755\n",
       "min    1.085770e+09       0.000000\n",
       "25%    1.363498e+09     102.000000\n",
       "50%    1.505938e+09     231.000000\n",
       "75%    1.964649e+09     640.000000\n",
       "max    1.983695e+09  258999.000000"
      ]
     },
     "execution_count": 297,
     "metadata": {},
     "output_type": "execute_result"
    }
   ],
   "source": [
    "data.describe()"
   ]
  },
  {
   "cell_type": "markdown",
   "id": "79617250",
   "metadata": {},
   "source": [
    "Посмотрим на уникальные значения"
   ]
  },
  {
   "cell_type": "code",
   "execution_count": 298,
   "id": "56893642",
   "metadata": {},
   "outputs": [],
   "source": [
    "fio = data['Блахов Василий Александрович'].unique()"
   ]
  },
  {
   "cell_type": "code",
   "execution_count": 299,
   "id": "b8932b32",
   "metadata": {},
   "outputs": [
    {
     "data": {
      "text/plain": [
       "9972"
      ]
     },
     "execution_count": 299,
     "metadata": {},
     "output_type": "execute_result"
    }
   ],
   "source": [
    "len(fio)"
   ]
  },
  {
   "cell_type": "code",
   "execution_count": 300,
   "id": "f2c4351f",
   "metadata": {},
   "outputs": [],
   "source": [
    "categories = data['1838685550'].unique()"
   ]
  },
  {
   "cell_type": "code",
   "execution_count": 301,
   "id": "969f9e63",
   "metadata": {},
   "outputs": [
    {
     "data": {
      "text/plain": [
       "23"
      ]
     },
     "execution_count": 301,
     "metadata": {},
     "output_type": "execute_result"
    }
   ],
   "source": [
    "len(categories)"
   ]
  },
  {
   "cell_type": "code",
   "execution_count": 302,
   "id": "ed4ee745",
   "metadata": {},
   "outputs": [],
   "source": [
    "sales = data['Оперативная память apacer nox [ah4u16g32c28ymbaa-1] 16 гб [ddr4, 16 гбx1 шт, 3200 мгц, 16-20-20-38]'].unique()"
   ]
  },
  {
   "cell_type": "code",
   "execution_count": 303,
   "id": "8d87e4cf",
   "metadata": {},
   "outputs": [
    {
     "data": {
      "text/plain": [
       "7232"
      ]
     },
     "execution_count": 303,
     "metadata": {},
     "output_type": "execute_result"
    }
   ],
   "source": [
    "len(sales)"
   ]
  },
  {
   "cell_type": "markdown",
   "id": "b00f4ab7",
   "metadata": {},
   "source": [
    "Посмотрим, не является ли ноль в цене ошибкой"
   ]
  },
  {
   "cell_type": "code",
   "execution_count": 304,
   "id": "6afa6ed6",
   "metadata": {},
   "outputs": [
    {
     "data": {
      "text/html": [
       "<div>\n",
       "<style scoped>\n",
       "    .dataframe tbody tr th:only-of-type {\n",
       "        vertical-align: middle;\n",
       "    }\n",
       "\n",
       "    .dataframe tbody tr th {\n",
       "        vertical-align: top;\n",
       "    }\n",
       "\n",
       "    .dataframe thead th {\n",
       "        text-align: right;\n",
       "    }\n",
       "</style>\n",
       "<table border=\"1\" class=\"dataframe\">\n",
       "  <thead>\n",
       "    <tr style=\"text-align: right;\">\n",
       "      <th></th>\n",
       "      <th>Оперативная память apacer nox [ah4u16g32c28ymbaa-1] 16 гб [ddr4, 16 гбx1 шт, 3200 мгц, 16-20-20-38]</th>\n",
       "      <th>1838685550</th>\n",
       "      <th>4399</th>\n",
       "      <th>Блахов Василий Александрович</th>\n",
       "    </tr>\n",
       "  </thead>\n",
       "  <tbody>\n",
       "    <tr>\n",
       "      <th>1083</th>\n",
       "      <td>Как создаются игры. основы разработки для начи...</td>\n",
       "      <td>1310763416</td>\n",
       "      <td>0</td>\n",
       "      <td>Городнина Татьяна Викторовна</td>\n",
       "    </tr>\n",
       "    <tr>\n",
       "      <th>1745</th>\n",
       "      <td>Кокетливый интеллект. как научить искусственны...</td>\n",
       "      <td>1310763416</td>\n",
       "      <td>0</td>\n",
       "      <td>Долгов Юрий Сергеевич</td>\n",
       "    </tr>\n",
       "    <tr>\n",
       "      <th>5316</th>\n",
       "      <td>Архитектура видеоигровых миров. уровень пройден!</td>\n",
       "      <td>1310763416</td>\n",
       "      <td>0</td>\n",
       "      <td>Арюлина Ираида Анатольевна</td>\n",
       "    </tr>\n",
       "    <tr>\n",
       "      <th>11917</th>\n",
       "      <td>Php и mysql. серверная веб-разработка</td>\n",
       "      <td>1310763416</td>\n",
       "      <td>0</td>\n",
       "      <td>Базяев Андрей Васильевич</td>\n",
       "    </tr>\n",
       "    <tr>\n",
       "      <th>17226</th>\n",
       "      <td>Как создаются игры. основы разработки для начи...</td>\n",
       "      <td>1310763416</td>\n",
       "      <td>0</td>\n",
       "      <td>Пыхунова Инна Николаевна</td>\n",
       "    </tr>\n",
       "    <tr>\n",
       "      <th>17614</th>\n",
       "      <td>Кокетливый интеллект. как научить искусственны...</td>\n",
       "      <td>1310763416</td>\n",
       "      <td>0</td>\n",
       "      <td>Калугин Олег Михайлович</td>\n",
       "    </tr>\n",
       "    <tr>\n",
       "      <th>19111</th>\n",
       "      <td>Призвание - геймер. как построить карьеру в ин...</td>\n",
       "      <td>1310763416</td>\n",
       "      <td>0</td>\n",
       "      <td>Кажурин Виталий Викторович</td>\n",
       "    </tr>\n",
       "    <tr>\n",
       "      <th>21126</th>\n",
       "      <td>Не лги себе. почему big data знает тебя лучше,...</td>\n",
       "      <td>1310763416</td>\n",
       "      <td>0</td>\n",
       "      <td>Берглезова Людмила Федоровна</td>\n",
       "    </tr>\n",
       "    <tr>\n",
       "      <th>21330</th>\n",
       "      <td>Призвание - геймер. как построить карьеру в ин...</td>\n",
       "      <td>1310763416</td>\n",
       "      <td>0</td>\n",
       "      <td>Соснина Алена Валерьевна</td>\n",
       "    </tr>\n",
       "    <tr>\n",
       "      <th>23643</th>\n",
       "      <td>Php и mysql. серверная веб-разработка</td>\n",
       "      <td>1310763416</td>\n",
       "      <td>0</td>\n",
       "      <td>Кургузов Илья Александрович</td>\n",
       "    </tr>\n",
       "    <tr>\n",
       "      <th>24455</th>\n",
       "      <td>Ошибки разработчиков видеоигр. от идеи до провала</td>\n",
       "      <td>1310763416</td>\n",
       "      <td>0</td>\n",
       "      <td>Гуркин Анатолий Иванович</td>\n",
       "    </tr>\n",
       "    <tr>\n",
       "      <th>27784</th>\n",
       "      <td>Не лги себе. почему big data знает тебя лучше,...</td>\n",
       "      <td>1310763416</td>\n",
       "      <td>0</td>\n",
       "      <td>Назарова Ирина Сергеевна</td>\n",
       "    </tr>\n",
       "    <tr>\n",
       "      <th>29370</th>\n",
       "      <td>Ошибки разработчиков видеоигр. от идеи до провала</td>\n",
       "      <td>1310763416</td>\n",
       "      <td>0</td>\n",
       "      <td>Гололобова Лидия Ивановна</td>\n",
       "    </tr>\n",
       "    <tr>\n",
       "      <th>31470</th>\n",
       "      <td>Ошибки разработчиков видеоигр. от идеи до провала</td>\n",
       "      <td>1310763416</td>\n",
       "      <td>0</td>\n",
       "      <td>Кузнецова Евгения Дмитриевна</td>\n",
       "    </tr>\n",
       "    <tr>\n",
       "      <th>34567</th>\n",
       "      <td>Призвание - геймер. как построить карьеру в ин...</td>\n",
       "      <td>1310763416</td>\n",
       "      <td>0</td>\n",
       "      <td>Родькина Наталья Александровна</td>\n",
       "    </tr>\n",
       "  </tbody>\n",
       "</table>\n",
       "</div>"
      ],
      "text/plain": [
       "      Оперативная память apacer nox [ah4u16g32c28ymbaa-1] 16 гб [ddr4, 16 гбx1 шт, 3200 мгц, 16-20-20-38]  \\\n",
       "1083   Как создаются игры. основы разработки для начи...                                                    \n",
       "1745   Кокетливый интеллект. как научить искусственны...                                                    \n",
       "5316    Архитектура видеоигровых миров. уровень пройден!                                                    \n",
       "11917              Php и mysql. серверная веб-разработка                                                    \n",
       "17226  Как создаются игры. основы разработки для начи...                                                    \n",
       "17614  Кокетливый интеллект. как научить искусственны...                                                    \n",
       "19111  Призвание - геймер. как построить карьеру в ин...                                                    \n",
       "21126  Не лги себе. почему big data знает тебя лучше,...                                                    \n",
       "21330  Призвание - геймер. как построить карьеру в ин...                                                    \n",
       "23643              Php и mysql. серверная веб-разработка                                                    \n",
       "24455  Ошибки разработчиков видеоигр. от идеи до провала                                                    \n",
       "27784  Не лги себе. почему big data знает тебя лучше,...                                                    \n",
       "29370  Ошибки разработчиков видеоигр. от идеи до провала                                                    \n",
       "31470  Ошибки разработчиков видеоигр. от идеи до провала                                                    \n",
       "34567  Призвание - геймер. как построить карьеру в ин...                                                    \n",
       "\n",
       "       1838685550  4399    Блахов Василий Александрович  \n",
       "1083   1310763416     0    Городнина Татьяна Викторовна  \n",
       "1745   1310763416     0           Долгов Юрий Сергеевич  \n",
       "5316   1310763416     0      Арюлина Ираида Анатольевна  \n",
       "11917  1310763416     0        Базяев Андрей Васильевич  \n",
       "17226  1310763416     0        Пыхунова Инна Николаевна  \n",
       "17614  1310763416     0         Калугин Олег Михайлович  \n",
       "19111  1310763416     0      Кажурин Виталий Викторович  \n",
       "21126  1310763416     0    Берглезова Людмила Федоровна  \n",
       "21330  1310763416     0        Соснина Алена Валерьевна  \n",
       "23643  1310763416     0     Кургузов Илья Александрович  \n",
       "24455  1310763416     0        Гуркин Анатолий Иванович  \n",
       "27784  1310763416     0        Назарова Ирина Сергеевна  \n",
       "29370  1310763416     0       Гололобова Лидия Ивановна  \n",
       "31470  1310763416     0    Кузнецова Евгения Дмитриевна  \n",
       "34567  1310763416     0  Родькина Наталья Александровна  "
      ]
     },
     "execution_count": 304,
     "metadata": {},
     "output_type": "execute_result"
    }
   ],
   "source": [
    "data[data['4399']==0].head(15)"
   ]
  },
  {
   "cell_type": "markdown",
   "id": "0c557b07",
   "metadata": {},
   "source": [
    "Нет, это бесплатные курсы"
   ]
  },
  {
   "cell_type": "markdown",
   "id": "4baac668",
   "metadata": {},
   "source": [
    "Создаём нормальные колонки"
   ]
  },
  {
   "cell_type": "code",
   "execution_count": 305,
   "id": "d5de293c",
   "metadata": {},
   "outputs": [],
   "source": [
    "columns = ['sale', 'category', 'price', 'client']"
   ]
  },
  {
   "cell_type": "code",
   "execution_count": 306,
   "id": "dd5e7681",
   "metadata": {},
   "outputs": [],
   "source": [
    "data = pd.concat([pd.DataFrame([data.columns], columns=data.columns), data]).reset_index(drop=True)\n",
    "data.columns=columns"
   ]
  },
  {
   "cell_type": "code",
   "execution_count": 307,
   "id": "dfb4be89",
   "metadata": {},
   "outputs": [
    {
     "data": {
      "text/html": [
       "<div>\n",
       "<style scoped>\n",
       "    .dataframe tbody tr th:only-of-type {\n",
       "        vertical-align: middle;\n",
       "    }\n",
       "\n",
       "    .dataframe tbody tr th {\n",
       "        vertical-align: top;\n",
       "    }\n",
       "\n",
       "    .dataframe thead th {\n",
       "        text-align: right;\n",
       "    }\n",
       "</style>\n",
       "<table border=\"1\" class=\"dataframe\">\n",
       "  <thead>\n",
       "    <tr style=\"text-align: right;\">\n",
       "      <th></th>\n",
       "      <th>sale</th>\n",
       "      <th>category</th>\n",
       "      <th>price</th>\n",
       "      <th>client</th>\n",
       "    </tr>\n",
       "  </thead>\n",
       "  <tbody>\n",
       "    <tr>\n",
       "      <th>0</th>\n",
       "      <td>Оперативная память apacer nox [ah4u16g32c28ymb...</td>\n",
       "      <td>1838685550</td>\n",
       "      <td>4399</td>\n",
       "      <td>Блахов Василий Александрович</td>\n",
       "    </tr>\n",
       "    <tr>\n",
       "      <th>1</th>\n",
       "      <td>Видеокарта kfa2 geforce rtx 3050 x black [35ns...</td>\n",
       "      <td>1227447308</td>\n",
       "      <td>29199</td>\n",
       "      <td>Блахов Василий Александрович</td>\n",
       "    </tr>\n",
       "    <tr>\n",
       "      <th>2</th>\n",
       "      <td>Оперативная память kingston fury beast black r...</td>\n",
       "      <td>1838685550</td>\n",
       "      <td>3599</td>\n",
       "      <td>Блахов Василий Александрович</td>\n",
       "    </tr>\n",
       "    <tr>\n",
       "      <th>3</th>\n",
       "      <td>Свеча зажигания ngk 4549 cr7hsa 1 шт.</td>\n",
       "      <td>1085769503</td>\n",
       "      <td>1092</td>\n",
       "      <td>Блахов Василий Александрович</td>\n",
       "    </tr>\n",
       "    <tr>\n",
       "      <th>4</th>\n",
       "      <td>Газовые упоры капота geely coolray / джили кул...</td>\n",
       "      <td>1197983357</td>\n",
       "      <td>678</td>\n",
       "      <td>Блахов Василий Александрович</td>\n",
       "    </tr>\n",
       "  </tbody>\n",
       "</table>\n",
       "</div>"
      ],
      "text/plain": [
       "                                                sale    category  price  \\\n",
       "0  Оперативная память apacer nox [ah4u16g32c28ymb...  1838685550   4399   \n",
       "1  Видеокарта kfa2 geforce rtx 3050 x black [35ns...  1227447308  29199   \n",
       "2  Оперативная память kingston fury beast black r...  1838685550   3599   \n",
       "3              Свеча зажигания ngk 4549 cr7hsa 1 шт.  1085769503   1092   \n",
       "4  Газовые упоры капота geely coolray / джили кул...  1197983357    678   \n",
       "\n",
       "                         client  \n",
       "0  Блахов Василий Александрович  \n",
       "1  Блахов Василий Александрович  \n",
       "2  Блахов Василий Александрович  \n",
       "3  Блахов Василий Александрович  \n",
       "4  Блахов Василий Александрович  "
      ]
     },
     "metadata": {},
     "output_type": "display_data"
    }
   ],
   "source": [
    "display(data.head())"
   ]
  },
  {
   "cell_type": "markdown",
   "id": "3c7f9762",
   "metadata": {},
   "source": [
    "## Топик моделинг"
   ]
  },
  {
   "cell_type": "markdown",
   "id": "cc908c4c",
   "metadata": {},
   "source": [
    "Применяем первую фильтрующую функцию"
   ]
  },
  {
   "cell_type": "code",
   "execution_count": 309,
   "id": "832afb32",
   "metadata": {},
   "outputs": [],
   "source": [
    "df_filtred = filter_text(data)"
   ]
  },
  {
   "cell_type": "code",
   "execution_count": 310,
   "id": "22699d2d",
   "metadata": {},
   "outputs": [],
   "source": [
    "df_filtred.to_csv('df_filtred.csv')"
   ]
  },
  {
   "cell_type": "code",
   "execution_count": 311,
   "id": "7c7c4701",
   "metadata": {},
   "outputs": [
    {
     "name": "stdout",
     "output_type": "stream",
     "text": [
      "<class 'pandas.core.frame.DataFrame'>\n",
      "RangeIndex: 300000 entries, 0 to 299999\n",
      "Data columns (total 5 columns):\n",
      " #   Column        Non-Null Count   Dtype \n",
      "---  ------        --------------   ----- \n",
      " 0   sale          300000 non-null  object\n",
      " 1   category      300000 non-null  object\n",
      " 2   price         300000 non-null  object\n",
      " 3   client        300000 non-null  object\n",
      " 4   cleaned_sale  300000 non-null  object\n",
      "dtypes: object(5)\n",
      "memory usage: 11.4+ MB\n"
     ]
    }
   ],
   "source": [
    "df_filtred.info()"
   ]
  },
  {
   "cell_type": "markdown",
   "id": "79b4ef9f",
   "metadata": {},
   "source": [
    "Всё прошло хорошо. Теперь применим вторую функцию."
   ]
  },
  {
   "cell_type": "code",
   "execution_count": 314,
   "id": "a893f855",
   "metadata": {
    "scrolled": true
   },
   "outputs": [
    {
     "name": "stdout",
     "output_type": "stream",
     "text": [
      "8734\n",
      "Топ популярных токенов:\n",
      "autoprofi bat площадь сечение жила, bat площадь сечение жила медь, hans pries комплект стойка стабилизатор, pries комплект стойка стабилизатор замена, акб autoprofi bat площадь сечение, двойн изоляция крепление клемма болт, жила медь двойн изоляция крепление, изоляция крепление клемма болт доп, клемма болт доп вывод см, крепление клемма болт доп вывод, медь двойн изоляция крепление клемма, площадь сечение жила медь двойн, провод акб autoprofi bat площадь, сечение жила медь двойн изоляция, соединительный провод акб autoprofi bat\n",
      "9104\n",
      "Топ популярных токенов:\n",
      "bm mazda gj mazda ke, dacia nissan renault lada largus, gj mazda ke kf кросс, marshall mazda bm mazda gj, mazda bm mazda gj mazda, mazda gj mazda ke kf, mazda ke kf кросс номер, дверь резиновый комплект штука ваз, лампа галогенный маяк ultra super, огонь drl avs светодиод шт, передний dacia nissan renault lada, подшипник ступица передний dacia nissan, проём дверь резиновый комплект штука, ступица передний dacia nissan renault, уплотнитель проём дверь резиновый комплект\n",
      "10230\n",
      "Топ популярных токенов:\n",
      "crystal quartz gravel светло коричневый, dennerle crystal quartz gravel светло, dennerle nano cube стеклянный бесцветный, dennerle okavango мм коричневый серый, аквариум dennerle crystal quartz gravel, грунт dennerle crystal quartz gravel, грунт аквариум dennerle crystal quartz, грунт природный dennerle kongo мм, грунт природный dennerle okavango мм, крышка dennerle nano cube стеклянный, покровный аквариум dennerle scaper tank, природный dennerle kongo мм серый, природный dennerle okavango мм коричневый, стекло покровный аквариум dennerle scaper, фильтр dennerle nano corner filter\n",
      "4934\n",
      "Топ популярных токенов:\n",
      "msi geforce rtx ventus oc, sapphire amd radeon rx xt, видеокарта asrock amd radeon rx, видеокарта gigabyte amd radeon rx, видеокарта gigabyte geforce rtx ti, видеокарта msi amd radeon rx, видеокарта msi geforce rtx gaming, видеокарта msi geforce rtx suprim, видеокарта msi geforce rtx ti, видеокарта msi geforce rtx ventus, видеокарта palit geforce rtx dual, видеокарта palit geforce rtx gamerock, видеокарта palit geforce rtx ti, видеокарта powercolor amd radeon rx, видеокарта sapphire amd radeon rx\n",
      "4072\n",
      "Топ популярных токенов:\n",
      "java тюнинг код java далёкий, javascript улучшение проект существовать код, oracle внутренний устройство администраторо разработчик, внутренний устройство администраторо разработчик база, война apple google microsoft битва, жаргон лексический фразеологический представление реалия, код javascript улучшение проект существовать, программирование разработка windows приложение язык, руководство диагностика устранение проблема oracle, современный технология программирование разработка windows, технология программирование разработка windows приложение, устройство администраторо разработчик база данных, цифровой война apple google microsoft, эффективный java тюнинг код java, ядро oracle внутренний устройство администраторо\n",
      "7031\n",
      "Топ популярных токенов:\n",
      "asterix obelix xxxl ram hibernia, blossom tale ii minotaur prince, cursed castilla maldita castilla ex, frontier hunter erza wheel fortune, garbage pail kids mad mike, guacamelee super turbo championship edition, man war vietnam special edition, mythbuster game crazy experiment simulator, need spirit drink drive simulator, new joe mac caveman ninja, shin chan professor summer vacation, space ranger hd war apart, summer adventure memory another life, train sim world standard edition, tt isle man ride edge\n",
      "11600\n",
      "Топ популярных токенов:\n",
      "youtube путь успех получать фура, информация общенаучный понятие часть приложение, классический криптология секрет шифр код, компьютерный анализ моделирование электрический цепь, метаобучение применение automl наука данных, мир minecraft неофициальный руководство игрок, нормативный обеспечение сфера информационный технология, обеспечение сфера информационный технология система, основа классический криптология секрет шифр, полузаказные бис бмк серия книга, получать фура лайк тонна деньга, применение пакет matlab simulink анализ, программирование python часть учебный пособие, путь успех получать фура лайк, успех получать фура лайк тонна\n",
      "59724\n",
      "Тема 1 :\n",
      "плавленый viola белый, брест литовск бзмж, сметана брест литовск, щедрый душа тёмный, сыр плавленый viola, колбаса варено копчёный, щедрый душа молочный, шоколад milka молочный, шоколад россия щедрый, россия щедрый душа\n",
      "\n",
      "\n",
      "Тема 2 :\n",
      "chikalab chika layers, mentos pure fresh, йогурт epica crispy, сыр полутвердый valio, шоколад ritter sport, мёд башкирский мёд, башкирский мёд натуральный, сырок творожный свитлогорье, резинка mentos pure, жевательный резинка mentos\n",
      "\n",
      "\n",
      "Тема 3 :\n",
      "бекон сырокопченый велком, творог зернёный савушкин, шоколадный merci ассорти, конфета шоколадный merci, печение oreo какао, вафли акульчев венский, мороженый пломбир коровка, пломбир коровка кореновки, сыр плавленый viola, пельмени сибирский коллекция\n",
      "\n",
      "\n",
      "9566\n",
      "Топ популярных токенов:\n",
      "angry video game nerd deluxe, battle chess ii chinese chess, echo starsong full bloom edition, el hijo wild west tale, hero trail cold steel iii, hero trail cold steel iv, hextech mayhem league legend story, legend hero trail cold steel, opus echo starsong full bloom, pathfinder wrath righteous enhance edition, redrawn paint tower collector edition, remilore lose girl land lore, true fear forsaken souls part, urban trial tricky deluxe edition, wing stranger sword city revisit\n",
      "2163\n",
      "Топ популярных токенов:\n",
      "adobe photoshop lightroom всеобъемлющий руководство, baidu китайский поисковик помощь искусственный, bash кибербезопасность атака защита анализ, javascript картинка галерея слайдер учебный, javascript креативный программирование учебный пособие, photoshop lightroom всеобъемлющий руководство фотограф, атака защита анализ командный строка, защита анализ командный строка linux, картинка галерея слайдер учебный пособие, кибербезопасность атака защита анализ командный, китайский поисковик помощь искусственный интеллект, поисковик помощь искусственный интеллект обыграть, помощь искусственный интеллект обыграть google, приложение autodesk inventor практический руководство, разработка приложение autodesk inventor практический\n",
      "17228\n",
      "Топ популярных токенов:\n",
      "persil color стирка цветной бельё, vanish oxi action белый бельё, vanish oxi advance цветной бельё, гель persil color стирка цветной, гель мытьё посуда synergetic аромат, жидкость мытьё посуда fairy сочный, кондиционер весь вид ткань vernel, мытьё посуда fairy сочный лимон, порошок миф аквапудра морозный свежесть, порошок ушастый нянь детский бельё, посуда fairy сочный лимон мл, пятновыводитель vanish oxi action белый, пятновыводитель vanish oxi advance цветной, стиральный порошок миф аквапудра морозный, стиральный порошок ушастый нянь детский\n",
      "20521\n",
      "Топ популярных токенов:\n",
      "ariel color reveal стирка цветной, color reveal стирка цветной бельё, mr proper бережный уборка пол, proper бережный уборка пол стена, ватный диск красный птица шт, гель ariel color reveal стирка, жидкость mr proper бережный уборка, жидкость мытьё посуда fairy pure, кондиционер весь вид ткань vernel, мешок мусор big city life, мытьё посуда fairy pure clean, салфетка бумажный белый см шт, салфетка влажный детский красный птица, салфетка влажный детский свежий нота, стиральный порошок ariel аквапудра color\n",
      "4199\n",
      "Топ популярных токенов:\n",
      "bref deluxe магнолия туалет шт, bref perfume switch яблоко лотос, mr proper классический лимон пол, paclan practi magic сильный загрязнение, perfume switch яблоко лотос туалет, блок bref deluxe магнолия туалет, блок bref perfume switch яблоко, гель мытьё посуда synergetic аромат, губка paclan practi magic сильный, кондиционер весь вид ткань vernel, мешок мусор paclan multitop aroma, мусор paclan multitop aroma шт, мыть средство mr proper классический, порошок losk color автомат цветной, средство mr proper классический лимон\n",
      "3481\n",
      "Топ популярных токенов:\n",
      "amd ryzen threadripper pro oem, процессор amd ryzen pro oem, процессор amd ryzen threadripper pro, процессор intel pentium gold box, процессор intel pentium gold oem\n",
      "792\n",
      "Топ популярных токенов:\n",
      "basic led аквариумный комплект литр, dennerle carbo start special edition, dennerle nano scaper tank basic, led аквариумный комплект литр фильтр, nano scaper tank basic led, scaper tank basic led аквариумный, tank basic led аквариумный комплект, аквариумный комплект литр фильтр освещение, газ dennerle carbo start special, подача углекислый газ dennerle carbo, система подача dennerle carbo start, система подача углекислый газ dennerle, углекислый газ dennerle carbo nigth, углекислый газ dennerle carbo start, установка подача dennerle einweg quantum\n",
      "12287\n",
      "Топ популярных токенов:\n",
      "malizia полиамид nero чёрный den, minimi mini cotone хлопок чёрный, omsa attiva caramello бежевый den, omsa malizia полиамид nero чёрный, женский minimi mini cotone хлопок, женский omsa attiva caramello бежевый, женский omsa malizia полиамид nero, колготки женский conte active полиамид, колготки женский omsa attiva caramello, колготки женский omsa attiva полиамид, носок женский minimi mini cotone, подследник женский minimi bell хлопок, слип женский minimi slip maxi, трус слип женский minimi slip, чулок женский omsa malizia полиамид\n",
      "5765\n",
      "Топ популярных токенов:\n",
      "bubble effect мытьё посуда шт, buro bu ascreen оргтехника шт, вантуз полимербыт премиум ассортимент цвет, влажный buro bu ascreen оргтехника, влажный emily style антибактериальный шт, влажный детский synergetic pure nature, влажный салфетка seni care classic, полимербыт премиум ассортимент цвет наличие, просто чистый влажный уборка см, салфетка seni care classic шт, салфетка влажный buro bu ascreen, салфетка влажный emily style антибактериальный, салфетка влажный детский synergetic pure, салфетка просто чистый влажный уборка, чистый влажный уборка см шт\n",
      "7233\n",
      "Топ популярных токенов:\n",
      "dennerle kristall quarz гравий фракция, dennerle plant care мл шт, dennerle shrimp king active soil, dennerle vitamix удобрение растение мл, kristall quarz гравий фракция мм, quarz гравий фракция мм цвет, shrimp king active soil мм, аквариум dennerle nano shrimp net, грунт dennerle crystal quartz gravel, профессиональный растение dennerle plant care, растение dennerle plant care npk, растение dennerle plant care мл, сачок аквариум dennerle nano shrimp, удобрение комплексный растение dennerle plant, удобрение профессиональный растение dennerle plant\n",
      "9383\n",
      "Топ популярных токенов:\n",
      "amd radeon gamer series гб, amd radeon performance series гб, kingston fury beast black гб, материнский плата asus tuf gaming, оперативный память adata xpg gammix, оперативный память amd radeon gamer, оперативный память amd radeon performance, оперативный память kingston fury beast, оперативный память patriot signature line, память adata xpg gammix гб, память amd radeon gamer series, память amd radeon performance series, память kingston fury beast black, память patriot signature line premium, память patriot signature line гб\n",
      "11122\n",
      "Топ популярных токенов:\n",
      "frau marta особо сладкий сахарный, green ray очистить собственный сок, natur bravo перец томатный соус, tomtom вяленый томат кедровый орешек, ассорти маринованное меленъ патиссоны черри, брускетта tomtom вяленый томат кедровый, горошек bonduelle зелёный молодой морковь, италия микс основа салат овощной, корнишон дядя ваня французски маринованные, корнишон скатерть самобранка маринованные хрустеть, кукуруза federici молодой початках маринованная, кукуруза frau marta особо сладкий, лечо natur bravo перец томатный, маринованное меленъ патиссоны черри огурец, огурчик скатерть самобранка маринованные хрустеть\n",
      "33818\n",
      "Тема 1 :\n",
      "попкорн holy corn, майонез ряба провансаль, соус sen soy, горчица махеевъ зернистый, кетчуп махеевъ чили, кетчуп махеевъ шашлычный, горчица махеевъ русский, кетчуп махеевъ томатный, картофельный lorenz naturals, чипсы картофельный lorenz\n",
      "\n",
      "\n",
      "Тема 2 :\n",
      "кетчуп махеевъ татарский, батончик actifruit злаковый, семечки подсолнечные атаман, soj nut bar, батончик soj nut, приправа maggi второй, хрен махеевъ столовый, соус filippo berio, фруктово ореховая смесь, сухарик ржано пшеничный\n",
      "\n",
      "\n",
      "45336\n",
      "Тема 1 :\n",
      "напиток сокосодержащий ребёнок, кофе poetti daily, чай чёрный принцесса, напиток chillout bitter, газированный напиток jumbo, газированный напиток chillout, узвар великий русь, fresco arabica solo, кофе poetti leggenda, кофе fresco arabica\n",
      "\n",
      "\n",
      "Тема 2 :\n",
      "чай чёрный akbar, напиток добрый cola, газированный напиток laimon, напиток laimon fresh, чай чёрный greenfield, кофе carte noire, чёрный richard royal, чай чёрный richard, газированный напиток добрый, газированный напиток черноголовка\n",
      "\n",
      "\n",
      "1676\n",
      "Топ популярных токенов:\n",
      "milky way prince vampire star, reliable delivery service standard edition, shadowrun hong kong extend edition, spongebob squarepant battle bikini bottom, squarepant battle bikini bottom rehydrate, totally reliable delivery service standard, wrc fia world rally championship, трейлер water taste like wine\n",
      "1\n"
     ]
    }
   ],
   "source": [
    "processed_dfs = [] \n",
    "for category, group_df in df_filtred.groupby('category'): \n",
    "    print(len(group_df)) \n",
    "    processed_group_df = topics(group_df) \n",
    "    processed_dfs.append(processed_group_df) \n",
    "    \n",
    "final_df = pd.concat(processed_dfs, ignore_index=True)"
   ]
  },
  {
   "cell_type": "markdown",
   "id": "cc6db8cd",
   "metadata": {},
   "source": [
    "Видим в целом хорошие и правильные топики. Посмотрим как их определила нейросеть."
   ]
  },
  {
   "cell_type": "code",
   "execution_count": 315,
   "id": "fc710146",
   "metadata": {},
   "outputs": [
    {
     "data": {
      "text/html": [
       "<div>\n",
       "<style scoped>\n",
       "    .dataframe tbody tr th:only-of-type {\n",
       "        vertical-align: middle;\n",
       "    }\n",
       "\n",
       "    .dataframe tbody tr th {\n",
       "        vertical-align: top;\n",
       "    }\n",
       "\n",
       "    .dataframe thead th {\n",
       "        text-align: right;\n",
       "    }\n",
       "</style>\n",
       "<table border=\"1\" class=\"dataframe\">\n",
       "  <thead>\n",
       "    <tr style=\"text-align: right;\">\n",
       "      <th></th>\n",
       "      <th>sale</th>\n",
       "      <th>category</th>\n",
       "      <th>price</th>\n",
       "      <th>client</th>\n",
       "      <th>cleaned_sale</th>\n",
       "      <th>topic</th>\n",
       "    </tr>\n",
       "  </thead>\n",
       "  <tbody>\n",
       "    <tr>\n",
       "      <th>0</th>\n",
       "      <td>Свеча зажигания ngk 4549 cr7hsa 1 шт.</td>\n",
       "      <td>1085769503</td>\n",
       "      <td>1092</td>\n",
       "      <td>Блахов Василий Александрович</td>\n",
       "      <td>свеча зажигание ngk шт</td>\n",
       "      <td>автозапчасти</td>\n",
       "    </tr>\n",
       "    <tr>\n",
       "      <th>1</th>\n",
       "      <td>Зарядное устройство avs bt-6030 для автомобиль...</td>\n",
       "      <td>1085769503</td>\n",
       "      <td>741</td>\n",
       "      <td>Борзенко Татьяна Александровна</td>\n",
       "      <td>зарядный устройство avs для автомобильный акку...</td>\n",
       "      <td>автозапчасти</td>\n",
       "    </tr>\n",
       "    <tr>\n",
       "      <th>2</th>\n",
       "      <td>Свеча зажигания ngk 3981 br9eix 1 шт.</td>\n",
       "      <td>1085769503</td>\n",
       "      <td>996</td>\n",
       "      <td>Мешкова Валерия Николаевна</td>\n",
       "      <td>свеча зажигание ngk шт</td>\n",
       "      <td>автозапчасти</td>\n",
       "    </tr>\n",
       "    <tr>\n",
       "      <th>3</th>\n",
       "      <td>Свеча зажигания ngk 2467 ptr5a-13 1 шт.</td>\n",
       "      <td>1085769503</td>\n",
       "      <td>660</td>\n",
       "      <td>Мешкова Валерия Николаевна</td>\n",
       "      <td>свеча зажигание ngk шт</td>\n",
       "      <td>автозапчасти</td>\n",
       "    </tr>\n",
       "    <tr>\n",
       "      <th>4</th>\n",
       "      <td>Lada колодки тормозные задние lada 21920350209...</td>\n",
       "      <td>1085769503</td>\n",
       "      <td>5444</td>\n",
       "      <td>Мешкова Валерия Николаевна</td>\n",
       "      <td>lada колодка тормозной задний lada комплект</td>\n",
       "      <td>автозапчасти</td>\n",
       "    </tr>\n",
       "  </tbody>\n",
       "</table>\n",
       "</div>"
      ],
      "text/plain": [
       "                                                sale    category price  \\\n",
       "0              Свеча зажигания ngk 4549 cr7hsa 1 шт.  1085769503  1092   \n",
       "1  Зарядное устройство avs bt-6030 для автомобиль...  1085769503   741   \n",
       "2              Свеча зажигания ngk 3981 br9eix 1 шт.  1085769503   996   \n",
       "3            Свеча зажигания ngk 2467 ptr5a-13 1 шт.  1085769503   660   \n",
       "4  Lada колодки тормозные задние lada 21920350209...  1085769503  5444   \n",
       "\n",
       "                           client  \\\n",
       "0    Блахов Василий Александрович   \n",
       "1  Борзенко Татьяна Александровна   \n",
       "2      Мешкова Валерия Николаевна   \n",
       "3      Мешкова Валерия Николаевна   \n",
       "4      Мешкова Валерия Николаевна   \n",
       "\n",
       "                                        cleaned_sale         topic  \n",
       "0                             свеча зажигание ngk шт  автозапчасти  \n",
       "1  зарядный устройство avs для автомобильный акку...  автозапчасти  \n",
       "2                             свеча зажигание ngk шт  автозапчасти  \n",
       "3                             свеча зажигание ngk шт  автозапчасти  \n",
       "4        lada колодка тормозной задний lada комплект  автозапчасти  "
      ]
     },
     "metadata": {},
     "output_type": "display_data"
    }
   ],
   "source": [
    "display(final_df.head())"
   ]
  },
  {
   "cell_type": "code",
   "execution_count": 316,
   "id": "99395df4",
   "metadata": {
    "scrolled": true
   },
   "outputs": [
    {
     "data": {
      "text/plain": [
       "array(['автозапчасти', 'аквариум', 'электроника', 'видеоигры',\n",
       "       'продукты питания', 'уборка', 'одежда', 'закуски и приправы',\n",
       "       'напитки', 'нет категории'], dtype=object)"
      ]
     },
     "execution_count": 316,
     "metadata": {},
     "output_type": "execute_result"
    }
   ],
   "source": [
    "final_df['topic'].unique()"
   ]
  },
  {
   "cell_type": "markdown",
   "id": "0e64ca27",
   "metadata": {},
   "source": [
    "Лишних категорий и дублей нет. Отлично!"
   ]
  },
  {
   "cell_type": "code",
   "execution_count": 317,
   "id": "8d43c2cf",
   "metadata": {},
   "outputs": [
    {
     "name": "stdout",
     "output_type": "stream",
     "text": [
      "<class 'pandas.core.frame.DataFrame'>\n",
      "RangeIndex: 300000 entries, 0 to 299999\n",
      "Data columns (total 6 columns):\n",
      " #   Column        Non-Null Count   Dtype \n",
      "---  ------        --------------   ----- \n",
      " 0   sale          300000 non-null  object\n",
      " 1   category      300000 non-null  object\n",
      " 2   price         300000 non-null  object\n",
      " 3   client        300000 non-null  object\n",
      " 4   cleaned_sale  300000 non-null  object\n",
      " 5   topic         300000 non-null  object\n",
      "dtypes: object(6)\n",
      "memory usage: 13.7+ MB\n"
     ]
    }
   ],
   "source": [
    "final_df.info()"
   ]
  },
  {
   "cell_type": "markdown",
   "id": "0f5a26b4",
   "metadata": {},
   "source": [
    "# Группировка данных и сохранение финальных датасетов"
   ]
  },
  {
   "cell_type": "markdown",
   "id": "be22fcae",
   "metadata": {},
   "source": [
    "Создадим датасет, где сгруппируем покупки клиентов по категориям. Посмотрим на частотность и общую стоимость покупок в категориях"
   ]
  },
  {
   "cell_type": "code",
   "execution_count": 318,
   "id": "1820ad46",
   "metadata": {},
   "outputs": [],
   "source": [
    "cashbacks = final_df.groupby(['client', 'topic']).agg({'topic': 'count', 'price': 'sum'})"
   ]
  },
  {
   "cell_type": "code",
   "execution_count": 319,
   "id": "a8dd0cac",
   "metadata": {},
   "outputs": [
    {
     "name": "stdout",
     "output_type": "stream",
     "text": [
      "<class 'pandas.core.frame.DataFrame'>\n",
      "MultiIndex: 64259 entries, ('Абакелия Мукас Робертовна', 'видеоигры') to ('Яшкова Надежда Алексеевна', 'электроника')\n",
      "Data columns (total 2 columns):\n",
      " #   Column  Non-Null Count  Dtype \n",
      "---  ------  --------------  ----- \n",
      " 0   topic   64259 non-null  int64 \n",
      " 1   price   64259 non-null  object\n",
      "dtypes: int64(1), object(1)\n",
      "memory usage: 1.2+ MB\n"
     ]
    }
   ],
   "source": [
    "cashbacks.info()"
   ]
  },
  {
   "cell_type": "code",
   "execution_count": 320,
   "id": "089edb5b",
   "metadata": {},
   "outputs": [],
   "source": [
    "cashbacks = cashbacks.rename(columns={'topic': 'frequency', 'price': 'total_price'})"
   ]
  },
  {
   "cell_type": "code",
   "execution_count": 321,
   "id": "21384e0f",
   "metadata": {},
   "outputs": [
    {
     "data": {
      "text/html": [
       "<div>\n",
       "<style scoped>\n",
       "    .dataframe tbody tr th:only-of-type {\n",
       "        vertical-align: middle;\n",
       "    }\n",
       "\n",
       "    .dataframe tbody tr th {\n",
       "        vertical-align: top;\n",
       "    }\n",
       "\n",
       "    .dataframe thead th {\n",
       "        text-align: right;\n",
       "    }\n",
       "</style>\n",
       "<table border=\"1\" class=\"dataframe\">\n",
       "  <thead>\n",
       "    <tr style=\"text-align: right;\">\n",
       "      <th></th>\n",
       "      <th></th>\n",
       "      <th>frequency</th>\n",
       "      <th>total_price</th>\n",
       "    </tr>\n",
       "    <tr>\n",
       "      <th>client</th>\n",
       "      <th>topic</th>\n",
       "      <th></th>\n",
       "      <th></th>\n",
       "    </tr>\n",
       "  </thead>\n",
       "  <tbody>\n",
       "    <tr>\n",
       "      <th rowspan=\"5\" valign=\"top\">Абакелия Мукас Робертовна</th>\n",
       "      <th>видеоигры</th>\n",
       "      <td>6</td>\n",
       "      <td>2395</td>\n",
       "    </tr>\n",
       "    <tr>\n",
       "      <th>напитки</th>\n",
       "      <td>6</td>\n",
       "      <td>844</td>\n",
       "    </tr>\n",
       "    <tr>\n",
       "      <th>продукты питания</th>\n",
       "      <td>6</td>\n",
       "      <td>1285</td>\n",
       "    </tr>\n",
       "    <tr>\n",
       "      <th>уборка</th>\n",
       "      <td>6</td>\n",
       "      <td>1894</td>\n",
       "    </tr>\n",
       "    <tr>\n",
       "      <th>закуски и приправы</th>\n",
       "      <td>3</td>\n",
       "      <td>222</td>\n",
       "    </tr>\n",
       "    <tr>\n",
       "      <th>...</th>\n",
       "      <th>...</th>\n",
       "      <td>...</td>\n",
       "      <td>...</td>\n",
       "    </tr>\n",
       "    <tr>\n",
       "      <th rowspan=\"5\" valign=\"top\">Яшкова Надежда Алексеевна</th>\n",
       "      <th>напитки</th>\n",
       "      <td>5</td>\n",
       "      <td>868</td>\n",
       "    </tr>\n",
       "    <tr>\n",
       "      <th>уборка</th>\n",
       "      <td>5</td>\n",
       "      <td>1389</td>\n",
       "    </tr>\n",
       "    <tr>\n",
       "      <th>аквариум</th>\n",
       "      <td>3</td>\n",
       "      <td>8153</td>\n",
       "    </tr>\n",
       "    <tr>\n",
       "      <th>закуски и приправы</th>\n",
       "      <td>3</td>\n",
       "      <td>752</td>\n",
       "    </tr>\n",
       "    <tr>\n",
       "      <th>одежда</th>\n",
       "      <td>1</td>\n",
       "      <td>599</td>\n",
       "    </tr>\n",
       "  </tbody>\n",
       "</table>\n",
       "<p>64259 rows × 2 columns</p>\n",
       "</div>"
      ],
      "text/plain": [
       "                                              frequency total_price\n",
       "client                    topic                                    \n",
       "Абакелия Мукас Робертовна видеоигры                   6        2395\n",
       "                          напитки                     6         844\n",
       "                          продукты питания            6        1285\n",
       "                          уборка                      6        1894\n",
       "                          закуски и приправы          3         222\n",
       "...                                                 ...         ...\n",
       "Яшкова Надежда Алексеевна напитки                     5         868\n",
       "                          уборка                      5        1389\n",
       "                          аквариум                    3        8153\n",
       "                          закуски и приправы          3         752\n",
       "                          одежда                      1         599\n",
       "\n",
       "[64259 rows x 2 columns]"
      ]
     },
     "metadata": {},
     "output_type": "display_data"
    }
   ],
   "source": [
    "display(cashbacks.sort_values(['client', 'frequency'], ascending=[True, False]))"
   ]
  },
  {
   "cell_type": "code",
   "execution_count": 322,
   "id": "d5001b91",
   "metadata": {},
   "outputs": [],
   "source": [
    "final_df.to_csv('final_df.csv') \n",
    "final_df.to_excel('final_df.xlsx')"
   ]
  },
  {
   "cell_type": "code",
   "execution_count": 324,
   "id": "912be481",
   "metadata": {},
   "outputs": [],
   "source": [
    "cashbacks.to_csv('cashbacks.csv') \n",
    "cashbacks.to_excel('cashbacks.xlsx')"
   ]
  }
 ],
 "metadata": {
  "kernelspec": {
   "display_name": "Python 3 (ipykernel)",
   "language": "python",
   "name": "python3"
  },
  "language_info": {
   "codemirror_mode": {
    "name": "ipython",
    "version": 3
   },
   "file_extension": ".py",
   "mimetype": "text/x-python",
   "name": "python",
   "nbconvert_exporter": "python",
   "pygments_lexer": "ipython3",
   "version": "3.11.4"
  }
 },
 "nbformat": 4,
 "nbformat_minor": 5
}
