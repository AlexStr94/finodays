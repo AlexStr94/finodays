{
 "cells": [
  {
   "cell_type": "code",
   "execution_count": 1,
   "id": "initial_id",
   "metadata": {
    "collapsed": true,
    "ExecuteTime": {
     "end_time": "2023-10-09T13:10:00.105377030Z",
     "start_time": "2023-10-09T13:09:59.874670148Z"
    }
   },
   "outputs": [],
   "source": [
    "from tests.statistics import Statistics\n",
    "import random"
   ]
  },
  {
   "cell_type": "code",
   "execution_count": 2,
   "outputs": [],
   "source": [
    "statistics = Statistics()"
   ],
   "metadata": {
    "collapsed": false,
    "ExecuteTime": {
     "end_time": "2023-10-09T13:10:00.258753030Z",
     "start_time": "2023-10-09T13:10:00.258304367Z"
    }
   },
   "id": "5067288e80cfa7b0"
  },
  {
   "cell_type": "code",
   "execution_count": 3,
   "outputs": [],
   "source": [
    "names = ('endpoint1', 'endpoint2', 'endpoint3')\n",
    "codes = ('200', '400', '422')\n",
    "time = (0.15, 0.45, 1.2, 1.4, 5.1)\n",
    "frequency = ('100', '1', '1000', '10000')\n",
    "\n",
    "for i in range(1000):\n",
    "    el = (random.choice(x) for x in (names, frequency, codes, time))\n",
    "    statistics.add(random.choice(names), random.choice(frequency), random.choice(codes), random.choice(time))"
   ],
   "metadata": {
    "collapsed": false,
    "ExecuteTime": {
     "end_time": "2023-10-09T13:10:01.361519397Z",
     "start_time": "2023-10-09T13:10:00.641392833Z"
    }
   },
   "id": "1c44f2b7cfe7b66f"
  },
  {
   "cell_type": "code",
   "execution_count": 4,
   "outputs": [
    {
     "data": {
      "text/plain": "     endpoint frequency  mean_response_time\n0   endpoint3         1            1.650625\n1   endpoint3       100            1.847778\n2   endpoint3      1000            1.467308\n3   endpoint3     10000            1.533333\n4   endpoint1         1            1.705488\n5   endpoint1       100            1.488095\n6   endpoint1      1000            1.658929\n7   endpoint1     10000            1.579891\n8   endpoint2         1            1.669277\n9   endpoint2       100            1.525301\n10  endpoint2      1000            1.617284\n11  endpoint2     10000            1.443293",
      "text/html": "<div>\n<style scoped>\n    .dataframe tbody tr th:only-of-type {\n        vertical-align: middle;\n    }\n\n    .dataframe tbody tr th {\n        vertical-align: top;\n    }\n\n    .dataframe thead th {\n        text-align: right;\n    }\n</style>\n<table border=\"1\" class=\"dataframe\">\n  <thead>\n    <tr style=\"text-align: right;\">\n      <th></th>\n      <th>endpoint</th>\n      <th>frequency</th>\n      <th>mean_response_time</th>\n    </tr>\n  </thead>\n  <tbody>\n    <tr>\n      <th>0</th>\n      <td>endpoint3</td>\n      <td>1</td>\n      <td>1.650625</td>\n    </tr>\n    <tr>\n      <th>1</th>\n      <td>endpoint3</td>\n      <td>100</td>\n      <td>1.847778</td>\n    </tr>\n    <tr>\n      <th>2</th>\n      <td>endpoint3</td>\n      <td>1000</td>\n      <td>1.467308</td>\n    </tr>\n    <tr>\n      <th>3</th>\n      <td>endpoint3</td>\n      <td>10000</td>\n      <td>1.533333</td>\n    </tr>\n    <tr>\n      <th>4</th>\n      <td>endpoint1</td>\n      <td>1</td>\n      <td>1.705488</td>\n    </tr>\n    <tr>\n      <th>5</th>\n      <td>endpoint1</td>\n      <td>100</td>\n      <td>1.488095</td>\n    </tr>\n    <tr>\n      <th>6</th>\n      <td>endpoint1</td>\n      <td>1000</td>\n      <td>1.658929</td>\n    </tr>\n    <tr>\n      <th>7</th>\n      <td>endpoint1</td>\n      <td>10000</td>\n      <td>1.579891</td>\n    </tr>\n    <tr>\n      <th>8</th>\n      <td>endpoint2</td>\n      <td>1</td>\n      <td>1.669277</td>\n    </tr>\n    <tr>\n      <th>9</th>\n      <td>endpoint2</td>\n      <td>100</td>\n      <td>1.525301</td>\n    </tr>\n    <tr>\n      <th>10</th>\n      <td>endpoint2</td>\n      <td>1000</td>\n      <td>1.617284</td>\n    </tr>\n    <tr>\n      <th>11</th>\n      <td>endpoint2</td>\n      <td>10000</td>\n      <td>1.443293</td>\n    </tr>\n  </tbody>\n</table>\n</div>"
     },
     "execution_count": 4,
     "metadata": {},
     "output_type": "execute_result"
    }
   ],
   "source": [
    "statistics.get_mean_response_time_for_each_frequency_for_each_endpoint_name()"
   ],
   "metadata": {
    "collapsed": false,
    "ExecuteTime": {
     "end_time": "2023-10-09T13:10:01.433131428Z",
     "start_time": "2023-10-09T13:10:01.403963934Z"
    }
   },
   "id": "f9be4ec5396cc0f2"
  },
  {
   "cell_type": "code",
   "execution_count": 5,
   "outputs": [
    {
     "data": {
      "text/plain": "     endpoint frequency code  code_count\n0   endpoint3         1  400          31\n1   endpoint3         1  422          25\n2   endpoint3         1  200          24\n3   endpoint3     10000  200          29\n4   endpoint3     10000  400          29\n5   endpoint3     10000  422          23\n6   endpoint3       100  422          32\n7   endpoint3       100  400          31\n8   endpoint3       100  200          27\n9   endpoint3      1000  422          35\n10  endpoint3      1000  400          26\n11  endpoint3      1000  200          17\n12  endpoint1         1  400          36\n13  endpoint1         1  200          24\n14  endpoint1         1  422          22\n15  endpoint1     10000  422          34\n16  endpoint1     10000  400          30\n17  endpoint1     10000  200          28\n18  endpoint1       100  400          34\n19  endpoint1       100  422          27\n20  endpoint1       100  200          23\n21  endpoint1      1000  422          34\n22  endpoint1      1000  200          27\n23  endpoint1      1000  400          23\n24  endpoint2         1  400          31\n25  endpoint2         1  200          29\n26  endpoint2         1  422          23\n27  endpoint2     10000  422          33\n28  endpoint2     10000  400          26\n29  endpoint2     10000  200          23\n30  endpoint2       100  422          36\n31  endpoint2       100  200          29\n32  endpoint2       100  400          18\n33  endpoint2      1000  200          32\n34  endpoint2      1000  400          27\n35  endpoint2      1000  422          22",
      "text/html": "<div>\n<style scoped>\n    .dataframe tbody tr th:only-of-type {\n        vertical-align: middle;\n    }\n\n    .dataframe tbody tr th {\n        vertical-align: top;\n    }\n\n    .dataframe thead th {\n        text-align: right;\n    }\n</style>\n<table border=\"1\" class=\"dataframe\">\n  <thead>\n    <tr style=\"text-align: right;\">\n      <th></th>\n      <th>endpoint</th>\n      <th>frequency</th>\n      <th>code</th>\n      <th>code_count</th>\n    </tr>\n  </thead>\n  <tbody>\n    <tr>\n      <th>0</th>\n      <td>endpoint3</td>\n      <td>1</td>\n      <td>400</td>\n      <td>31</td>\n    </tr>\n    <tr>\n      <th>1</th>\n      <td>endpoint3</td>\n      <td>1</td>\n      <td>422</td>\n      <td>25</td>\n    </tr>\n    <tr>\n      <th>2</th>\n      <td>endpoint3</td>\n      <td>1</td>\n      <td>200</td>\n      <td>24</td>\n    </tr>\n    <tr>\n      <th>3</th>\n      <td>endpoint3</td>\n      <td>10000</td>\n      <td>200</td>\n      <td>29</td>\n    </tr>\n    <tr>\n      <th>4</th>\n      <td>endpoint3</td>\n      <td>10000</td>\n      <td>400</td>\n      <td>29</td>\n    </tr>\n    <tr>\n      <th>5</th>\n      <td>endpoint3</td>\n      <td>10000</td>\n      <td>422</td>\n      <td>23</td>\n    </tr>\n    <tr>\n      <th>6</th>\n      <td>endpoint3</td>\n      <td>100</td>\n      <td>422</td>\n      <td>32</td>\n    </tr>\n    <tr>\n      <th>7</th>\n      <td>endpoint3</td>\n      <td>100</td>\n      <td>400</td>\n      <td>31</td>\n    </tr>\n    <tr>\n      <th>8</th>\n      <td>endpoint3</td>\n      <td>100</td>\n      <td>200</td>\n      <td>27</td>\n    </tr>\n    <tr>\n      <th>9</th>\n      <td>endpoint3</td>\n      <td>1000</td>\n      <td>422</td>\n      <td>35</td>\n    </tr>\n    <tr>\n      <th>10</th>\n      <td>endpoint3</td>\n      <td>1000</td>\n      <td>400</td>\n      <td>26</td>\n    </tr>\n    <tr>\n      <th>11</th>\n      <td>endpoint3</td>\n      <td>1000</td>\n      <td>200</td>\n      <td>17</td>\n    </tr>\n    <tr>\n      <th>12</th>\n      <td>endpoint1</td>\n      <td>1</td>\n      <td>400</td>\n      <td>36</td>\n    </tr>\n    <tr>\n      <th>13</th>\n      <td>endpoint1</td>\n      <td>1</td>\n      <td>200</td>\n      <td>24</td>\n    </tr>\n    <tr>\n      <th>14</th>\n      <td>endpoint1</td>\n      <td>1</td>\n      <td>422</td>\n      <td>22</td>\n    </tr>\n    <tr>\n      <th>15</th>\n      <td>endpoint1</td>\n      <td>10000</td>\n      <td>422</td>\n      <td>34</td>\n    </tr>\n    <tr>\n      <th>16</th>\n      <td>endpoint1</td>\n      <td>10000</td>\n      <td>400</td>\n      <td>30</td>\n    </tr>\n    <tr>\n      <th>17</th>\n      <td>endpoint1</td>\n      <td>10000</td>\n      <td>200</td>\n      <td>28</td>\n    </tr>\n    <tr>\n      <th>18</th>\n      <td>endpoint1</td>\n      <td>100</td>\n      <td>400</td>\n      <td>34</td>\n    </tr>\n    <tr>\n      <th>19</th>\n      <td>endpoint1</td>\n      <td>100</td>\n      <td>422</td>\n      <td>27</td>\n    </tr>\n    <tr>\n      <th>20</th>\n      <td>endpoint1</td>\n      <td>100</td>\n      <td>200</td>\n      <td>23</td>\n    </tr>\n    <tr>\n      <th>21</th>\n      <td>endpoint1</td>\n      <td>1000</td>\n      <td>422</td>\n      <td>34</td>\n    </tr>\n    <tr>\n      <th>22</th>\n      <td>endpoint1</td>\n      <td>1000</td>\n      <td>200</td>\n      <td>27</td>\n    </tr>\n    <tr>\n      <th>23</th>\n      <td>endpoint1</td>\n      <td>1000</td>\n      <td>400</td>\n      <td>23</td>\n    </tr>\n    <tr>\n      <th>24</th>\n      <td>endpoint2</td>\n      <td>1</td>\n      <td>400</td>\n      <td>31</td>\n    </tr>\n    <tr>\n      <th>25</th>\n      <td>endpoint2</td>\n      <td>1</td>\n      <td>200</td>\n      <td>29</td>\n    </tr>\n    <tr>\n      <th>26</th>\n      <td>endpoint2</td>\n      <td>1</td>\n      <td>422</td>\n      <td>23</td>\n    </tr>\n    <tr>\n      <th>27</th>\n      <td>endpoint2</td>\n      <td>10000</td>\n      <td>422</td>\n      <td>33</td>\n    </tr>\n    <tr>\n      <th>28</th>\n      <td>endpoint2</td>\n      <td>10000</td>\n      <td>400</td>\n      <td>26</td>\n    </tr>\n    <tr>\n      <th>29</th>\n      <td>endpoint2</td>\n      <td>10000</td>\n      <td>200</td>\n      <td>23</td>\n    </tr>\n    <tr>\n      <th>30</th>\n      <td>endpoint2</td>\n      <td>100</td>\n      <td>422</td>\n      <td>36</td>\n    </tr>\n    <tr>\n      <th>31</th>\n      <td>endpoint2</td>\n      <td>100</td>\n      <td>200</td>\n      <td>29</td>\n    </tr>\n    <tr>\n      <th>32</th>\n      <td>endpoint2</td>\n      <td>100</td>\n      <td>400</td>\n      <td>18</td>\n    </tr>\n    <tr>\n      <th>33</th>\n      <td>endpoint2</td>\n      <td>1000</td>\n      <td>200</td>\n      <td>32</td>\n    </tr>\n    <tr>\n      <th>34</th>\n      <td>endpoint2</td>\n      <td>1000</td>\n      <td>400</td>\n      <td>27</td>\n    </tr>\n    <tr>\n      <th>35</th>\n      <td>endpoint2</td>\n      <td>1000</td>\n      <td>422</td>\n      <td>22</td>\n    </tr>\n  </tbody>\n</table>\n</div>"
     },
     "execution_count": 5,
     "metadata": {},
     "output_type": "execute_result"
    }
   ],
   "source": [
    "statistics.get_codes_count_for_each_frequency_for_each_endpoint_name()"
   ],
   "metadata": {
    "collapsed": false,
    "ExecuteTime": {
     "end_time": "2023-10-09T13:10:02.922162751Z",
     "start_time": "2023-10-09T13:10:02.841262362Z"
    }
   },
   "id": "bc5afc4d4b318380"
  },
  {
   "cell_type": "code",
   "execution_count": 6,
   "outputs": [],
   "source": [
    "statistics.save_all_to_csv('files')"
   ],
   "metadata": {
    "collapsed": false,
    "ExecuteTime": {
     "end_time": "2023-10-09T13:10:04.742704112Z",
     "start_time": "2023-10-09T13:10:04.654347284Z"
    }
   },
   "id": "7ac355d9f56cb690"
  }
 ],
 "metadata": {
  "kernelspec": {
   "display_name": "Python 3",
   "language": "python",
   "name": "python3"
  },
  "language_info": {
   "codemirror_mode": {
    "name": "ipython",
    "version": 2
   },
   "file_extension": ".py",
   "mimetype": "text/x-python",
   "name": "python",
   "nbconvert_exporter": "python",
   "pygments_lexer": "ipython2",
   "version": "2.7.6"
  }
 },
 "nbformat": 4,
 "nbformat_minor": 5
}
